{
 "cells": [
  {
   "cell_type": "code",
   "execution_count": 11,
   "metadata": {
    "scrolled": true
   },
   "outputs": [],
   "source": [
    "import PySimpleGUI as sg\n",
    "import sys\n",
    "import json\n",
    "\n",
    "\n",
    "#sg.theme('DarkAmber')\n",
    "sg.theme('Dark Blue 3')\n",
    "\n",
    "# conteudo da janela (aqui tambem se altera as chaves do dictionary)\n",
    "layout = [  [sg.Text('Frequência de corte'),  sg.InputText(key=\"fc\"), sg.Text('Hz')],\n",
    "            [sg.Text('Intervalo'),  sg.InputText(key=\"inter1\"), sg.Text('Hz'),  sg.InputText(key=\"inter2\"), sg.Text('Hz')],\n",
    "            [sg.Text('Amostra'),  sg.InputText(key=\"amt\"), sg.Text('Hz')],\n",
    "            [sg.Text('Amplitude'),  sg.InputText(key=\"amp\"), sg.Text('V')],\n",
    "            [sg.Text('Carregar'), sg.InputText(key=\"load\"), sg.FileBrowse(), sg.Button('Carrega')],\n",
    "          [sg.Text('Salvar'), sg.InputText(key=\"save\"), sg.FileSaveAs(), sg.Button('Salva')],\n",
    "            [sg.Button('Ok') , sg.Button('Cancel')] ]\n",
    "\n",
    "# Cria a janela\n",
    "window = sg.Window('Dados do experimento', layout)\n",
    "\n",
    "# Loop de eventos para pegar os valores e fazer acoes\n",
    "while True:\n",
    "    event, values = window.read()\n",
    "    if event in (None, 'Cancel'):# Termina a execucao do programa\n",
    "        sys.exit()\n",
    "        \n",
    "    elif (event == 'Carrega'):\t# Carrega um arquivo JSON nas entradas da janela\n",
    "        f = open(values[\"Browse\"], \"r\") #carrega arquivo que o usuario escolheu\n",
    "        if f.mode == 'r':\n",
    "            ler =json.loads(f.read())\n",
    "        f.close()\n",
    "        for keys in ler:#muda os valores das celulas na janela com o arquivo\n",
    "            window[keys](ler[keys])\n",
    "        \n",
    "    elif (event == 'Salva'):\t# salva as entradas da janela para um arquivo em json\n",
    "        f = open(values[\"save\"], \"w+\")\n",
    "        del values[\"Browse\"] #remove as celulas com o caminho do arquivo da variavel\n",
    "        del values[\"Save As...\"]\n",
    "        del values[\"save\"]\n",
    "        del values[\"load\"]\n",
    "        f.write(json.dumps(values))\n",
    "        f.close()\n",
    "        \n",
    "    elif (event == 'Ok'): #Continua a execucao do programa\n",
    "        del values[\"Browse\"] #remove as celulas com o caminho do arquivo da variavel\n",
    "        del values[\"Save As...\"]\n",
    "        del values[\"save\"]\n",
    "        del values[\"load\"]\n",
    "        saida=values\n",
    "        \n",
    "        break\n",
    "window.close()"
   ]
  },
  {
   "cell_type": "code",
   "execution_count": 9,
   "metadata": {},
   "outputs": [
    {
     "name": "stdout",
     "output_type": "stream",
     "text": [
      "{'fc': '100000', 'inter1': '1000000', 'inter2': '20000000', 'amt': '100', 'amp': '5'}\n"
     ]
    }
   ],
   "source": [
    "print(saida)"
   ]
  },
  {
   "cell_type": "code",
   "execution_count": null,
   "metadata": {},
   "outputs": [],
   "source": []
  }
 ],
 "metadata": {
  "kernelspec": {
   "display_name": "Python 3",
   "language": "python",
   "name": "python3"
  },
  "language_info": {
   "codemirror_mode": {
    "name": "ipython",
    "version": 3
   },
   "file_extension": ".py",
   "mimetype": "text/x-python",
   "name": "python",
   "nbconvert_exporter": "python",
   "pygments_lexer": "ipython3",
   "version": "3.6.10"
  }
 },
 "nbformat": 4,
 "nbformat_minor": 2
}
