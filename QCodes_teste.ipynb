{
 "cells": [
  {
   "cell_type": "code",
   "execution_count": 8,
   "metadata": {},
   "outputs": [],
   "source": [
    "import numpy as np\n",
    "import os\n",
    "from qcodes import Station\n",
    "from qcodes.instrument.specialized_parameters import ElapsedTimeParameter\n",
    "from qcodes.dataset.plotting import plot_dataset\n",
    "from qcodes.utils.validators import Numbers, Arrays\n",
    "from qcodes.instrument.base import Instrument\n",
    "from qcodes.logger.logger import start_all_logging\n",
    "from qcodes.dataset.measurements import Measurement\n",
    "from qcodes.instrument.parameter import ParameterWithSetpoints, Parameter\n",
    "from qcodes.dataset.sqlite.database import initialise_or_create_database_at\n",
    "from qcodes.dataset.experiment_container import load_or_create_experiment\n",
    "import matplotlib.pyplot as plt\n",
    "import scipy.signal as sp\n",
    "from lab_qcodes import *"
   ]
  },
  {
   "cell_type": "code",
   "execution_count": 9,
   "metadata": {},
   "outputs": [
    {
     "name": "stdout",
     "output_type": "stream",
     "text": [
      "Activating auto-logging. Current session state plus future input saved.\n",
      "Filename       : C:\\Users\\lucam\\.qcodes\\logs\\command_history.log\n",
      "Mode           : append\n",
      "Output logging : True\n",
      "Raw input log  : False\n",
      "Timestamping   : True\n",
      "State          : active\n",
      "Qcodes Logfile : C:\\Users\\lucam\\.qcodes\\logs\\200515-10000-qcodes.log\n"
     ]
    }
   ],
   "source": [
    "# Sempre importante iniciar o logging\n",
    "start_all_logging()"
   ]
  },
  {
   "cell_type": "markdown",
   "metadata": {},
   "source": [
    "# Teste"
   ]
  },
  {
   "cell_type": "code",
   "execution_count": 10,
   "metadata": {},
   "outputs": [],
   "source": [
    "PSG1 = DummySignalGenerator(\"SignalGenerator1\",noise_function=np.zeros)\n",
    "PSG2 = DummySignalGenerator(\"SignalGenerator2\",noise_function=np.zeros)\n",
    "PSG3 = DummySignalGenerator(\"SignalGenerator3\",noise_function=np.zeros)\n",
    "osc = DummyOscilloscope('oscilloscope')\n"
   ]
  },
  {
   "cell_type": "code",
   "execution_count": 11,
   "metadata": {},
   "outputs": [],
   "source": [
    "aDUT = DUT(\"DUT\",PSG1)\n",
    "circuit = HomodyneCircuit(\"circuit\",aDUT,PSG2)\n",
    "circuit2 = HomodyneCircuit(\"circuit2\",PSG1,PSG2)"
   ]
  },
  {
   "cell_type": "code",
   "execution_count": 12,
   "metadata": {},
   "outputs": [],
   "source": [
    "circuit2.fc(50)"
   ]
  },
  {
   "cell_type": "code",
   "execution_count": 13,
   "metadata": {},
   "outputs": [],
   "source": [
    "osc.ch1.n_points(2500)\n",
    "osc.ch2.n_points(2500)\n",
    "osc.ch3.n_points(2500)\n",
    "osc.ch4.n_points(2500)\n",
    "\n",
    "osc.ch1.connect_inst(aDUT)\n",
    "osc.ch2.connect_inst(PSG2)\n",
    "osc.ch3.connect_inst(circuit)\n",
    "osc.ch4.connect_inst(circuit2)\n",
    "osc.ch1.t_start.set(-10)\n",
    "osc.ch1.t_stop.set(10)\n",
    "osc.ch2.t_start.set(-10)\n",
    "osc.ch2.t_stop.set(10)\n",
    "osc.ch3.t_start.set(-10)\n",
    "osc.ch3.t_stop.set(10)\n",
    "osc.ch4.t_start.set(-10)\n",
    "osc.ch4.t_stop.set(10)\n"
   ]
  },
  {
   "cell_type": "markdown",
   "metadata": {},
   "source": [
    "# Homodyne "
   ]
  },
  {
   "cell_type": "code",
   "execution_count": 14,
   "metadata": {},
   "outputs": [],
   "source": [
    "amp = 1\n",
    "PSG1.amp(amp)\n",
    "PSG2.amp(amp)"
   ]
  },
  {
   "cell_type": "markdown",
   "metadata": {},
   "source": [
    "# Teste Medida "
   ]
  },
  {
   "cell_type": "code",
   "execution_count": 15,
   "metadata": {},
   "outputs": [
    {
     "data": {
      "text/plain": [
       "{'instruments': {},\n",
       " 'parameters': {},\n",
       " 'components': {},\n",
       " 'config': None,\n",
       " 'default_measurement': []}"
      ]
     },
     "execution_count": 15,
     "metadata": {},
     "output_type": "execute_result"
    }
   ],
   "source": [
    "# Station representa um conjunto de instrumentos\n",
    "station = Station()\n",
    "station.snapshot()"
   ]
  },
  {
   "cell_type": "code",
   "execution_count": 16,
   "metadata": {},
   "outputs": [
    {
     "data": {
      "text/plain": [
       "'oscilloscope'"
      ]
     },
     "execution_count": 16,
     "metadata": {},
     "output_type": "execute_result"
    }
   ],
   "source": [
    "station.add_component(osc)"
   ]
  },
  {
   "cell_type": "code",
   "execution_count": 17,
   "metadata": {},
   "outputs": [],
   "source": [
    "# Criar um database\n",
    "initialise_or_create_database_at(\"~/teste.db\")"
   ]
  },
  {
   "cell_type": "code",
   "execution_count": 30,
   "metadata": {},
   "outputs": [],
   "source": [
    "#Definir um experimento\n",
    "exp = load_or_create_experiment(experiment_name='osc_teste dut',\n",
    "                                sample_name=\"osc teste 1\")"
   ]
  },
  {
   "cell_type": "code",
   "execution_count": 31,
   "metadata": {},
   "outputs": [],
   "source": [
    "def calculateGain():\n",
    "    Y = osc.ch3.wavesample()\n",
    "    n_mean = int(len(Y)/2)\n",
    "    value = 2*np.mean(Y[n_mean:])\n",
    "    value = 10*np.log(np.power(value,2))\n",
    "    return value\n",
    "\n",
    "gain = Parameter('gain',\n",
    "                  label='gain',\n",
    "                  unit='dB',\n",
    "                  get_cmd=calculateGain)"
   ]
  },
  {
   "cell_type": "code",
   "execution_count": 32,
   "metadata": {},
   "outputs": [
    {
     "name": "stdout",
     "output_type": "stream",
     "text": [
      "Starting experimental run with id: 71. \n"
     ]
    }
   ],
   "source": [
    "# Medida de fato\n",
    "meas = Measurement(exp=exp, station=station)\n",
    "\n",
    "meas.register_parameter(PSG1.freq)\n",
    "meas.register_parameter(gain, setpoints=[PSG1.freq])\n",
    "\n",
    "with meas.run() as datasaver:\n",
    "    for aFreq in np.linspace(1,500,500):\n",
    "        PSG1.freq(aFreq)\n",
    "        PSG2.freq(aFreq)\n",
    "        datasaver.add_result((gain, gain()), (PSG1.freq, PSG1.freq()))\n",
    "        \n",
    "dataset = datasaver.dataset"
   ]
  },
  {
   "cell_type": "code",
   "execution_count": 33,
   "metadata": {},
   "outputs": [
    {
     "data": {
      "text/plain": [
       "([<matplotlib.axes._subplots.AxesSubplot at 0x25dea1cabc8>], [None])"
      ]
     },
     "execution_count": 33,
     "metadata": {},
     "output_type": "execute_result"
    },
    {
     "data": {
      "image/png": "[encoded data removed]",
      "text/plain": [
       "<Figure size 432x288 with 1 Axes>"
      ]
     },
     "metadata": {
      "needs_background": "light"
     },
     "output_type": "display_data"
    }
   ],
   "source": [
    "plot_dataset(dataset)"
   ]
  },
  {
   "cell_type": "markdown",
   "metadata": {},
   "source": [
    "lista de experimentos"
   ]
  },
  {
   "cell_type": "code",
   "execution_count": 24,
   "metadata": {},
   "outputs": [],
   "source": [
    "import qcodes as qc\n",
    "from qcodes.dataset.plotting import plot_dataset"
   ]
  },
  {
   "cell_type": "code",
   "execution_count": 25,
   "metadata": {},
   "outputs": [],
   "source": [
    "qc.initialise_or_create_database_at(\"~/teste.db\")"
   ]
  },
  {
   "cell_type": "code",
   "execution_count": 26,
   "metadata": {},
   "outputs": [
    {
     "name": "stdout",
     "output_type": "stream",
     "text": [
      "SA_teste\n",
      "osc_teste\n",
      "osc_teste variando freq\n",
      "osc_teste2\n",
      "osc_teste nada\n",
      "osc_teste dut\n"
     ]
    }
   ],
   "source": [
    "experiments = qc.experiments()\n",
    "for exp in experiments:\n",
    "    print(exp.name)"
   ]
  },
  {
   "cell_type": "code",
   "execution_count": 35,
   "metadata": {},
   "outputs": [
    {
     "data": {
      "text/plain": [
       "osc_teste dut#osc teste 1#6@C:\\Users\\lucam\\teste.db\n",
       "---------------------------------------------------\n",
       "71-results-1-SignalGenerator1_freq,gain-500"
      ]
     },
     "execution_count": 35,
     "metadata": {},
     "output_type": "execute_result"
    }
   ],
   "source": [
    "use_exp = experiments[-1];use_exp"
   ]
  },
  {
   "cell_type": "code",
   "execution_count": 36,
   "metadata": {},
   "outputs": [
    {
     "data": {
      "text/plain": [
       "[results #71@C:\\Users\\lucam\\teste.db\n",
       " -----------------------------------\n",
       " SignalGenerator1_freq - numeric\n",
       " gain - numeric]"
      ]
     },
     "execution_count": 36,
     "metadata": {},
     "output_type": "execute_result"
    }
   ],
   "source": [
    "use_exp.data_sets()"
   ]
  },
  {
   "cell_type": "code",
   "execution_count": 37,
   "metadata": {},
   "outputs": [],
   "source": [
    "dataset = qc.load_by_run_spec(experiment_name=use_exp.name)"
   ]
  },
  {
   "cell_type": "code",
   "execution_count": 38,
   "metadata": {},
   "outputs": [
    {
     "data": {
      "text/plain": [
       "([<matplotlib.axes._subplots.AxesSubplot at 0x1960f972048>], [None])"
      ]
     },
     "execution_count": 38,
     "metadata": {},
     "output_type": "execute_result"
    },
    {
     "data": {
      "image/png": "[encoded data removed]",
      "text/plain": [
       "<Figure size 432x288 with 1 Axes>"
      ]
     },
     "metadata": {
      "needs_background": "light"
     },
     "output_type": "display_data"
    }
   ],
   "source": [
    "qc.dataset.plotting.plot_dataset(dataset)"
   ]
  },
  {
   "cell_type": "code",
   "execution_count": null,
   "metadata": {},
   "outputs": [],
   "source": []
  }
 ],
 "metadata": {
  "kernelspec": {
   "display_name": "qcodes",
   "language": "python",
   "name": "qcodes"
  },
  "language_info": {
   "codemirror_mode": {
    "name": "ipython",
    "version": 3
   },
   "file_extension": ".py",
   "mimetype": "text/x-python",
   "name": "python",
   "nbconvert_exporter": "python",
   "pygments_lexer": "ipython3",
   "version": "3.7.7"
  }
 },
 "nbformat": 4,
 "nbformat_minor": 4
}
