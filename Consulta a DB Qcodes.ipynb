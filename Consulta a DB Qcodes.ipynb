{
 "cells": [
  {
   "cell_type": "markdown",
   "metadata": {},
   "source": [
    "### Introdução\n",
    "Essa é uma interface gráfica para acessar a base de dados dos experimentos no qcodes. Basta selecionar o experimento e o dataset dele(no Qcodes um experimento = grupo de datasets, datasets = dados de uma run) que quer plotar e/ou exportar como um arquivo JSON e visualizar o gráfico. Que aparecerão nas próprias janelas. Há também uma opção de gráfico em tempo real que precisa ser trabalhada para aceitar mais tipos de gráfico mas preechidas a condição de usar só duas variáveis está funcionando. \n",
    "\n",
    "### Instruções\n",
    "\n",
    "Você precisa ter o Qcodes e o pysimpleGui para ele funcionar. Com isso de um Menu/Cell/run all (a intenção e deixar isso como um arquivo de python para servir de script pela linha de comando). As janelas vão aparecer começando com a database com experimentos carregados. Não dá pra testar esse caderno bem sem uma database do qcodes preechida com algo.\n",
    "\n",
    "### To do\n",
    "- A plotagem com  o plot_dataset não funciona com uma janela aberta ao mesmo tempo.\n",
    "- O progress plot é para jupyter notebook que não é como esse programa vai ser entregue"
   ]
  },
  {
   "cell_type": "code",
   "execution_count": 1,
   "metadata": {},
   "outputs": [
    {
     "name": "stdout",
     "output_type": "stream",
     "text": [
      "Logging hadn't been started.\n",
      "Activating auto-logging. Current session state plus future input saved.\n",
      "Filename       : /home/daniel/.qcodes/logs/command_history.log\n",
      "Mode           : append\n",
      "Output logging : True\n",
      "Raw input log  : False\n",
      "Timestamping   : True\n",
      "State          : active\n",
      "Qcodes Logfile : /home/daniel/.qcodes/logs/200612-5367-qcodes.log\n",
      "Activating auto-logging. Current session state plus future input saved.\n",
      "Filename       : /home/daniel/.qcodes/logs/command_history.log\n",
      "Mode           : append\n",
      "Output logging : True\n",
      "Raw input log  : False\n",
      "Timestamping   : True\n",
      "State          : active\n",
      "Qcodes Logfile : /home/daniel/.qcodes/logs/200612-5367-qcodes.log\n"
     ]
    }
   ],
   "source": [
    "%matplotlib qt\n",
    "#%matplotlib inline\n",
    "\n",
    "#GUI\n",
    "import PySimpleGUI as sg\n",
    "import sys\n",
    "import json\n",
    "\n",
    "import numpy as np\n",
    "import qcodes as qc\n",
    "from qcodes.logger.logger import start_all_logging\n",
    "from qcodes.dataset.plotting import plot_dataset\n",
    "from jupyterplot import ProgressPlot\n",
    "import qcodes as qc\n",
    "import numpy as np\n",
    "import time\n",
    "import matplotlib.pyplot as plt\n",
    "\n",
    "#sg.theme('DarkAmber')\n",
    "sg.theme('Dark Blue 3')\n",
    "\n",
    "start_all_logging()"
   ]
  },
  {
   "cell_type": "code",
   "execution_count": 2,
   "metadata": {},
   "outputs": [
    {
     "name": "stdout",
     "output_type": "stream",
     "text": [
      "./teste.db\n"
     ]
    }
   ],
   "source": [
    "#janela definedatabase\n",
    "# conteudo das janelas \n",
    "layout = [  \n",
    "            [sg.Text('Selecione a Database'), sg.InputText(key=\"dtbs\", default_text=\"./teste.db\"), sg.FileBrowse()],\n",
    "            [sg.Button('Continue') , sg.Button('Cancel')]]\n",
    "# Cria a janela\n",
    "window = sg.Window('Leitor Plotter', layout)\n",
    "\n",
    "# Loop de eventos para pegar os valores e fazer acoes\n",
    "while True:\n",
    "    event, values = window.read()\n",
    "    if event in (None, 'Cancel'):# Termina a execucao do programa\n",
    "        window.close()\n",
    "        sys.exit()\n",
    "        \n",
    "    elif (event == 'Continue'): #Continua a execucao do programa\n",
    "          break  \n",
    "    \n",
    "window.close()\n",
    "dtbs=values[\"dtbs\"]\n",
    "print(dtbs)\n",
    "#Criar um database\n",
    "qc.initialise_or_create_database_at(dtbs)"
   ]
  },
  {
   "cell_type": "code",
   "execution_count": 3,
   "metadata": {},
   "outputs": [
    {
     "name": "stdout",
     "output_type": "stream",
     "text": [
      "['osc_teste dut', 'gravitacao quantica', 'viajens relativisticas']\n"
     ]
    }
   ],
   "source": [
    "#mostrar os experimentos disponiveis\n",
    "experiments = qc.experiments() \n",
    "\n",
    "#cria lista com o nome dos experimentos\n",
    "expList=[]\n",
    "for exp in experiments:\n",
    "    expList.append(exp.name)\n",
    "print (expList)"
   ]
  },
  {
   "cell_type": "code",
   "execution_count": 4,
   "metadata": {},
   "outputs": [
    {
     "name": "stdout",
     "output_type": "stream",
     "text": [
      "osc_teste dut\n"
     ]
    }
   ],
   "source": [
    "\n",
    "layout = [  \n",
    "            [sg.Text('Experimento'), sg.Combo(expList, key=\"exp\")],\n",
    "            [sg.Button('Continue') , sg.Button('Cancel')]]\n",
    "# Cria a janela\n",
    "window = sg.Window('Leitor Plotter', layout)\n",
    "\n",
    "\n",
    "# Loop de eventos para pegar os valores e fazer acoes\n",
    "while True:\n",
    "    event, values = window.read()\n",
    "    if event in (None, 'Cancel'):# Termina a execucao do programa\n",
    "        window.close()\n",
    "        sys.exit()\n",
    "        \n",
    "    elif (event == 'Continue'): #Continua a execucao do programa\n",
    "          break  \n",
    "    \n",
    "window.close()\n",
    "expName=values[\"exp\"]\n",
    "print (expName)\n",
    "#janela define expName"
   ]
  },
  {
   "cell_type": "code",
   "execution_count": 5,
   "metadata": {},
   "outputs": [],
   "source": [
    "#Definir um experimento escolhido pelo usuario pelo nome\n",
    "\n",
    "#e mostrar datasets do experimento escolhido\n",
    "exp = qc.load_experiment_by_name(expName)\n",
    "\n",
    "#pega tabela em texto com os datasets do experimento e transforma em string\n",
    "table=str(exp)\n",
    "#tranforma table em um vetor com as linhas\n",
    "lines=table.splitlines()\n",
    "#remove a primeira e segunda linhas\n",
    "del lines[0]\n",
    "del lines[0]\n",
    "#o vetor lines sera usado como parametro para escolher o dataset na janela"
   ]
  },
  {
   "cell_type": "code",
   "execution_count": 6,
   "metadata": {},
   "outputs": [
    {
     "name": "stdout",
     "output_type": "stream",
     "text": [
      "4\n"
     ]
    }
   ],
   "source": [
    "\n",
    "layout = [  \n",
    "            [sg.Text('Dataset'), sg.Combo(lines, key=\"dts\")],\n",
    "            [sg.Button('Continue') , sg.Button('Cancel')]]\n",
    "# Cria a janela\n",
    "window = sg.Window('Leitor Plotter', layout)\n",
    "\n",
    "# Loop de eventos para pegar os valores e fazer acoes\n",
    "while True:\n",
    "    event, values = window.read()\n",
    "    if event in (None, 'Cancel'):# Termina a execucao do programa\n",
    "        window.close()\n",
    "        sys.exit()\n",
    "        \n",
    "    elif (event == 'Continue'): #Continua a execucao do programa\n",
    "          break  \n",
    "    \n",
    "window.close()\n",
    "#pegar o valor do vetor que vem da janela\n",
    "stringdts=values[\"dts\"]\n",
    "\n",
    "#para pegar o captured runID a partir do string de selecao\n",
    "#particiona o vetor no primeiro '-' que aparece e pega a primeira parte[0]\n",
    "dts = stringdts.partition('-')[0]\n",
    "#converte de string para int\n",
    "dts=int(dts)\n",
    "print (dts)"
   ]
  },
  {
   "cell_type": "code",
   "execution_count": 7,
   "metadata": {},
   "outputs": [],
   "source": [
    "#escolher dataset e carregar para plotar\n",
    "dataset = qc.load_by_run_spec(experiment_name=exp.name,  captured_run_id=dts)"
   ]
  },
  {
   "cell_type": "code",
   "execution_count": 8,
   "metadata": {},
   "outputs": [
    {
     "name": "stdout",
     "output_type": "stream",
     "text": [
      "['gain']\n"
     ]
    }
   ],
   "source": [
    "#pega a dependencias de dados (quais sao as variaveis independentes x, t e sua dependente y)\n",
    "interdeps = dataset.description.interdeps\n",
    "interdeps.dependencies\n",
    "\n",
    "#dados dependentes y\n",
    "#lista de parametros no dataset\n",
    "PrmDep = list(interdeps.dependencies.keys())\n",
    "\n",
    "#loop que lista nomes dos parametros no dataset\n",
    "PDnames=[]\n",
    "for ParY in PrmDep:\n",
    "    PDnames.append(ParY.name)\n",
    "print(PDnames)"
   ]
  },
  {
   "cell_type": "code",
   "execution_count": null,
   "metadata": {},
   "outputs": [],
   "source": []
  },
  {
   "cell_type": "code",
   "execution_count": 14,
   "metadata": {},
   "outputs": [
    {
     "ename": "SystemExit",
     "evalue": "",
     "output_type": "error",
     "traceback": [
      "An exception has occurred, use %tb to see the full traceback.\n",
      "\u001b[0;31mSystemExit\u001b[0m\n"
     ]
    },
    {
     "name": "stderr",
     "output_type": "stream",
     "text": [
      "2020-06-12 21:28:33,448 ¦ py.warnings ¦ WARNING ¦ warnings ¦ _showwarnmsg ¦ 99 ¦ /home/daniel/.local/lib/python3.6/site-packages/IPython/core/interactiveshell.py:3339: UserWarning: To exit: use 'exit', 'quit', or Ctrl-D.\n",
      "  warn(\"To exit: use 'exit', 'quit', or Ctrl-D.\", stacklevel=1)\n",
      "\n"
     ]
    }
   ],
   "source": [
    "#janela para escolher variavel plotada exemplo(ganho ou fase)\n",
    "layout = [  \n",
    "            [sg.Text('Exportar'), sg.InputText(key=\"save\"), sg.FileSaveAs(), sg.Button('Salva')],\n",
    "            [sg.Button('Plotar dataset'),sg.Text('Função do Qcodes, encerra o programa') ],\n",
    "            [sg.Text('Para ver o progress plot continue daqui')],\n",
    "            [sg.Text('Escolher variável de saída'), sg.Combo(PDnames, key=\"PDnames\")],\n",
    "            [sg.Button('Continue') , sg.Button('Cancel')]]\n",
    "# Cria a janela\n",
    "window = sg.Window('Leitor Plotter', layout)\n",
    "\n",
    "\n",
    "# Loop de eventos para pegar os valores e fazer acoes\n",
    "while True:\n",
    "    event, values = window.read()\n",
    "    if event in (None, 'Cancel'):# Termina a execucao do programa\n",
    "        window.close()\n",
    "        sys.exit()\n",
    "           \n",
    "    elif (event=='Plotar dataset'):\n",
    "         #faz um plot da dataset inteira de preview\n",
    "        plot_dataset(dataset)\n",
    "        #plt.show(block=False)\n",
    "        window.close()\n",
    "        # plt.draw()\n",
    "        #plt.pause(0.001)\n",
    "        \n",
    "    elif (event == 'Salva'):\t# salva as entradas da janela para um arquivo em json\n",
    "        f = open(values[\"save\"], \"w+\")\n",
    "        #remove as celulas com o caminho do arquivo da variavel ou seja sem mais uso\n",
    "        f.write(json.dumps(dataset))\n",
    "        f.close()\n",
    "\n",
    "    elif (event == 'Continue'): #Continua a execucao do programa\n",
    "        break\n",
    "        \n",
    "window.close()\n",
    "\n",
    "\n",
    "#fecha plot\n",
    "plt.close()\n",
    "\n",
    "PrmYname=values[\"PDnames\"]"
   ]
  },
  {
   "cell_type": "code",
   "execution_count": 10,
   "metadata": {},
   "outputs": [
    {
     "data": {
      "text/plain": [
       "['SignalGenerator1_freq']"
      ]
     },
     "execution_count": 10,
     "metadata": {},
     "output_type": "execute_result"
    }
   ],
   "source": [
    "#pega todos os parametros para essa variavel y e lista os nomes com keys()\n",
    "PInames=list(dataset.get_parameter_data()[PrmYname].keys())\n",
    "#remove a variavel dependente da lista (y)\n",
    "PInames.remove(PrmYname); PInames"
   ]
  },
  {
   "cell_type": "code",
   "execution_count": 11,
   "metadata": {},
   "outputs": [
    {
     "ename": "SystemExit",
     "evalue": "",
     "output_type": "error",
     "traceback": [
      "An exception has occurred, use %tb to see the full traceback.\n",
      "\u001b[0;31mSystemExit\u001b[0m\n"
     ]
    },
    {
     "name": "stderr",
     "output_type": "stream",
     "text": [
      "2020-06-12 21:24:10,495 ¦ py.warnings ¦ WARNING ¦ warnings ¦ _showwarnmsg ¦ 99 ¦ /home/daniel/.local/lib/python3.6/site-packages/IPython/core/interactiveshell.py:3339: UserWarning: To exit: use 'exit', 'quit', or Ctrl-D.\n",
      "  warn(\"To exit: use 'exit', 'quit', or Ctrl-D.\", stacklevel=1)\n",
      "\n"
     ]
    }
   ],
   "source": [
    "#janela para escolher variavel plotada\n",
    "\n",
    "layout = [  \n",
    "            [sg.Text('Escolher variavel de entrada'), sg.Combo(PInames, key=\"PInames\")],\n",
    "            [sg.Text('Intervalo de x'),  sg.InputText(key=\"inter1x\", default_text=\"0\"),  sg.InputText(key=\"inter2x\", default_text=\"500\")],\n",
    "            [sg.Text('Intervalo de y'),  sg.InputText(key=\"inter1y\", default_text=\"-200\"),  sg.InputText(key=\"inter2y\", default_text=\"200\")],\n",
    "            [sg.Button('Continue') , sg.Button('Cancel')]]\n",
    "# Cria a janela\n",
    "window = sg.Window('Leitor Plotter', layout)\n",
    "\n",
    "\n",
    "# Loop de eventos para pegar os valores e fazer acoes\n",
    "while True:\n",
    "    event, values = window.read()\n",
    "    if event in (None, 'Cancel'):# Termina a execucao do programa\n",
    "        window.close()\n",
    "        sys.exit()\n",
    "        \n",
    "    elif (event == 'Continue'): #Continua a execucao do programa\n",
    "        break\n",
    "        \n",
    "window.close()\n",
    "\n",
    "inter1x=int(values[\"inter1x\"])\n",
    "inter2x=int(values[\"inter2x\"])\n",
    "inter1y=int(values[\"inter1y\"])\n",
    "inter2y=int(values[\"inter2y\"])\n",
    "\n",
    "PrmXname=values[\"PInames\"]"
   ]
  },
  {
   "cell_type": "code",
   "execution_count": null,
   "metadata": {},
   "outputs": [],
   "source": [
    "\n",
    "layout = [ [sg.Text('Aperte para finalizar')],\n",
    "    [sg.Button('Sair')]]\n",
    "# Cria a janela\n",
    "window = sg.Window('Leitor Plotter', layout)\n",
    "\n",
    "\n",
    "    #plota a dataset atualizando a medida que houverem novas medidas\n",
    "\n",
    "pp = ProgressPlot(x_iterator=False,x_lim=[inter1x, inter2x], y_lim=[inter1y, inter2y])\n",
    "#pega pontos da base de dados\n",
    "Y = dataset.get_parameter_data()[PrmYname][PrmYname]\n",
    "X = dataset.get_parameter_data()[PrmYname][PrmXname]\n",
    "aLen = len(Y)\n",
    "\n",
    "#insere os pontos já carregados no grafico\n",
    "for i in range(0,aLen):\n",
    "        pp.update(X[i],Y[i])\n",
    "\n",
    "while 1:\n",
    "    #pega dados da janela\n",
    "        event, values = window.read()\n",
    "        #se o usuario apertar sair encerra\n",
    "        if event in (None, 'Sair'):# Termina a execucao do programa\n",
    "                window.close()\n",
    "                sys.exit()\n",
    "\n",
    "        Y = dataset.get_parameter_data()[PrmYname][PrmYname]\n",
    "        X = dataset.get_parameter_data()[PrmYname][PrmXname]\n",
    "\n",
    "        newLen = len(Y)\n",
    "        for i in range(aLen,newLen):\n",
    "            pp.update(X[i],Y[i])\n",
    "\n",
    "        aLen = newLen\n"
   ]
  }
 ],
 "metadata": {
  "kernelspec": {
   "display_name": "Python 3",
   "language": "python",
   "name": "python3"
  },
  "language_info": {
   "codemirror_mode": {
    "name": "ipython",
    "version": 3
   },
   "file_extension": ".py",
   "mimetype": "text/x-python",
   "name": "python",
   "nbconvert_exporter": "python",
   "pygments_lexer": "ipython3",
   "version": "3.6.10"
  }
 },
 "nbformat": 4,
 "nbformat_minor": 2
}
