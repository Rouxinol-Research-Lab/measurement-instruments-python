{
 "cells": [
  {
   "cell_type": "code",
   "execution_count": 2,
   "metadata": {},
   "outputs": [
    {
     "name": "stdout",
     "output_type": "stream",
     "text": [
      "Logging hadn't been started.\n",
      "Activating auto-logging. Current session state plus future input saved.\n",
      "Filename       : /home/daniel/.qcodes/logs/command_history.log\n",
      "Mode           : append\n",
      "Output logging : True\n",
      "Raw input log  : False\n",
      "Timestamping   : True\n",
      "State          : active\n",
      "Qcodes Logfile : /home/daniel/.qcodes/logs/201020-2548-qcodes.log\n"
     ]
    }
   ],
   "source": [
    "#%matplotlib inline\n",
    "import os\n",
    "from time import sleep\n",
    "from datetime import datetime\n",
    "\n",
    "#para plotar o grafico em real time\n",
    "import matplotlib.pyplot as plt\n",
    "import matplotlib.animation as animation\n",
    "from matplotlib import style\n",
    "#style.use('fivethirtyeight')\n",
    "\n",
    "import matplotlib.pyplot as plt\n",
    "import numpy as np\n",
    "import qcodes as qc\n",
    "from qcodes import (\n",
    "    Measurement,\n",
    "    experiments,\n",
    "    initialise_database,\n",
    "    initialise_or_create_database_at,\n",
    "    load_by_guid,\n",
    "    load_by_run_spec,\n",
    "    load_experiment,\n",
    "    load_last_experiment,\n",
    "    load_or_create_experiment,\n",
    "    new_experiment,\n",
    ")\n",
    "from qcodes.dataset.plotting import plot_dataset\n",
    "from qcodes.logger.logger import start_all_logging\n",
    "from qcodes.tests.instrument_mocks import DummyInstrument\n",
    "from qcodes.instrument.parameter import Parameter"
   ]
  },
  {
   "cell_type": "code",
   "execution_count": 3,
   "metadata": {},
   "outputs": [
    {
     "name": "stdout",
     "output_type": "stream",
     "text": [
      "Activating auto-logging. Current session state plus future input saved.\n",
      "Filename       : /home/daniel/.qcodes/logs/command_history.log\n",
      "Mode           : append\n",
      "Output logging : True\n",
      "Raw input log  : False\n",
      "Timestamping   : True\n",
      "State          : active\n",
      "Qcodes Logfile : /home/daniel/.qcodes/logs/201020-2548-qcodes.log\n"
     ]
    }
   ],
   "source": [
    "start_all_logging()\n",
    "from qcodes import config\n",
    "config.logger.start_logging_on_import = 'always'\n",
    "config.save_to_home()"
   ]
  },
  {
   "cell_type": "code",
   "execution_count": 4,
   "metadata": {},
   "outputs": [],
   "source": [
    "initialise_or_create_database_at(\"./OneTone.db\")"
   ]
  },
  {
   "cell_type": "code",
   "execution_count": 5,
   "metadata": {},
   "outputs": [],
   "source": [
    "station = qc.Station()"
   ]
  },
  {
   "cell_type": "code",
   "execution_count": 6,
   "metadata": {},
   "outputs": [],
   "source": [
    "# A dummy instrument dac with two parameters ch1 and ch2\n",
    "dac = DummyInstrument('dac', gates=['amp'])\n",
    "\n",
    "# A dummy instrument dmm with two parameters ch1 and Ch2\n",
    "dmm = DummyInstrument('dmm', gates=['v1'])"
   ]
  },
  {
   "cell_type": "code",
   "execution_count": 7,
   "metadata": {},
   "outputs": [],
   "source": [
    "#These are the parameters which come ready to use from the intruments drivers\n",
    "#dac.add_parameter('amp',label='Amplitude', unit=\"V\", get_cmd=None, set_cmd=None)\n",
    "dac.add_parameter('freq',label='Frequency', unit=\"Hz\", get_cmd=None, set_cmd=None)"
   ]
  },
  {
   "cell_type": "code",
   "execution_count": 8,
   "metadata": {},
   "outputs": [],
   "source": [
    "#assigns values no the parameters\n",
    "dac.amp(5)\n",
    "dac.freq(200)"
   ]
  },
  {
   "cell_type": "code",
   "execution_count": 9,
   "metadata": {},
   "outputs": [
    {
     "name": "stdout",
     "output_type": "stream",
     "text": [
      "dac:\n",
      "\tparameter value\n",
      "--------------------------------------------------------------------------------\n",
      "IDN  :\tNone \n",
      "amp  :\t5 (V)\n",
      "freq :\t200 (Hz)\n"
     ]
    }
   ],
   "source": [
    "dac.print_readable_snapshot()"
   ]
  },
  {
   "cell_type": "code",
   "execution_count": 10,
   "metadata": {},
   "outputs": [
    {
     "data": {
      "text/plain": [
       "'dmm'"
      ]
     },
     "execution_count": 10,
     "metadata": {},
     "output_type": "execute_result"
    }
   ],
   "source": [
    "station.add_component(dac)\n",
    "station.add_component(dmm)"
   ]
  },
  {
   "cell_type": "code",
   "execution_count": 11,
   "metadata": {},
   "outputs": [],
   "source": [
    "#in this class is defined the simulated behavior of the osciloscope entrance\n",
    "class dmm_parameter(qc.Parameter):\n",
    "    def __init__(self, name):\n",
    "        super().__init__(name)\n",
    "        #assingns the generator to self.ed\n",
    "        self.ed = self.exponential_decay(0.01, 0.01)\n",
    "        next(self.ed)\n",
    "        self.memory=0\n",
    "\n",
    "    #gets value automatically from dac channel 1\n",
    "    def get_raw(self):\n",
    "        shift=0\n",
    "        \"\"\"\n",
    "        This method is automatically wrapped to\n",
    "        provide a ``get`` method on the parameter instance.\n",
    "        \"\"\"\n",
    "        #if the amp and thus the power is greater than a value \n",
    "        #the qubit punches out the frequency\n",
    "        if(dac.amp()>10):\n",
    "            shift=5\n",
    "        val = self.ed.send(dac.freq()-shift)*dac.amp()\n",
    "        next(self.ed)\n",
    "        return val\n",
    "\n",
    "    #this function returns an generator which is a kind of iterable\n",
    "    def exponential_decay(self, a: float, b: float):\n",
    "        \"\"\"\n",
    "        Yields a*exp(-b*x) where x is put in\n",
    "        \"\"\"\n",
    "        x = 0\n",
    "        while True:\n",
    "            x = yield\n",
    "            #yield returns a generator\n",
    "            yield a*np.exp(-b*(x-15)**2) + 0.02*a*np.random.randn()\n",
    "            \n",
    "    \n",
    "dmm.v1 = dmm_parameter('dmm_v1')"
   ]
  },
  {
   "cell_type": "code",
   "execution_count": 12,
   "metadata": {},
   "outputs": [
    {
     "name": "stdout",
     "output_type": "stream",
     "text": [
      "2020-10-20_18-38-36\n"
     ]
    }
   ],
   "source": [
    "\n",
    "#puts current time in a string to facilitate control of the samples\n",
    "now = datetime.now()\n",
    "now = now.strftime(\"%Y-%m-%d_%H-%M-%S\")\n",
    "print(now)"
   ]
  },
  {
   "cell_type": "code",
   "execution_count": 13,
   "metadata": {},
   "outputs": [],
   "source": [
    "#the experiment is a unit of data inside the database it's made \n",
    "#out of samples or datasets\n",
    "exp = load_or_create_experiment(experiment_name='One Tone',\n",
    "                                sample_name=now)\n",
    "# load_experiment_by_name(experiment_name='dataset_context_manager',sample_name=\"no sample\")\n",
    "# load_last_experiment()\n",
    "# load_experiment(1)\n",
    "# new_experiment(experiment_name='dataset_context_manager',sample_name=\"no sample\")"
   ]
  },
  {
   "cell_type": "code",
   "execution_count": 79,
   "metadata": {},
   "outputs": [],
   "source": [
    "#plot axis to make the points appear in the same graph\n",
    "fig = plt.figure()\n",
    "ax1 = fig.add_subplot()\n"
   ]
  },
  {
   "cell_type": "code",
   "execution_count": null,
   "metadata": {},
   "outputs": [],
   "source": [
    "\n",
    "#plots the graph of the not punched out\n",
    "ax1.plot(Z, W,c='blue')\n",
    "plt.pause(0.01)"
   ]
  },
  {
   "cell_type": "code",
   "execution_count": 80,
   "metadata": {},
   "outputs": [
    {
     "name": "stdout",
     "output_type": "stream",
     "text": [
      "Starting experimental run with id: 85. \n"
     ]
    }
   ],
   "source": [
    "dac.amp(12)# amp > 10 means it punches out in the simu\n",
    "meas = Measurement(exp=exp, station=station)\n",
    "meas.register_parameter(dac.freq)  # register the first independent parameter\n",
    "meas.register_parameter(dac.amp)\n",
    "meas.register_parameter(dmm.v1, setpoints=(dac.freq,))  # now register the dependent oone\n",
    "\n",
    "meas.write_period = 2 \n",
    "\n",
    "with meas.run() as datasaver:\n",
    "    #np.linspace is the interval and number of points in the osciloscope\n",
    "    for set_v in np.linspace(0, 30, 60):\n",
    "        #sets dac ch1 with the set_v value and gets value from v1\n",
    "        dac.freq.set(set_v)\n",
    "        get_v = dmm.v1.get()\n",
    "        #adds to the datasaver the result\n",
    "        datasaver.add_result((dac.freq, set_v),\n",
    "                             (dmm.v1, get_v))\n",
    "\n",
    "        sleep(0.1)\n",
    "        #plots graph in real time\n",
    "        #checks there is any data already\n",
    "        if (bool(datasaver.dataset.get_parameter_data()['dmm_v1'])):\n",
    "            #gets data from dataset to plot\n",
    "            Y = datasaver.dataset.get_parameter_data()['dmm_v1']['dmm_v1']\n",
    "            X = datasaver.dataset.get_parameter_data()['dmm_v1']['dac_freq']\n",
    "            ax1.plot(X, Y,c='red')\n",
    "            plt.pause(0.001)\n",
    "\n",
    "    plt.show()\n",
    "    datasaver.add_result((dac.amp, dac.amp()))\n",
    "\n",
    "    dataset = datasaver.dataset  # convenient to have for plotting\n"
   ]
  },
  {
   "cell_type": "code",
   "execution_count": 47,
   "metadata": {
    "scrolled": true
   },
   "outputs": [
    {
     "data": {
      "text/plain": [
       "([<matplotlib.axes._subplots.AxesSubplot at 0x7feb0acd5dd8>], [None])"
      ]
     },
     "execution_count": 47,
     "metadata": {},
     "output_type": "execute_result"
    },
    {
     "data": {
      "image/png": "[encoded data removed]",
      "text/plain": [
       "<Figure size 432x288 with 1 Axes>"
      ]
     },
     "metadata": {
      "needs_background": "light"
     },
     "output_type": "display_data"
    }
   ],
   "source": [
    "plot_dataset(dataset)"
   ]
  },
  {
   "cell_type": "code",
   "execution_count": 136,
   "metadata": {},
   "outputs": [
    {
     "data": {
      "text/plain": [
       "<bound method Experiment.data_sets of One Tone#2020-10-20_00-20-59#21@/home/daniel/Documents/Estudos/1Graduacao/Iniciação Cientifica - Computação Quântica/measurement-instruments-python/OneTone.db\n",
       "--------------------------------------------------------------------------------------------------------------------------------------------------------------\n",
       "25-results-1-dac_amp,dmm_v1-60>"
      ]
     },
     "execution_count": 136,
     "metadata": {},
     "output_type": "execute_result"
    }
   ],
   "source": [
    "exp.data_sets"
   ]
  },
  {
   "cell_type": "code",
   "execution_count": null,
   "metadata": {},
   "outputs": [],
   "source": [
    "dataset = load_by_run_spec(experiment_name='One Tone', captured_run_id=4)"
   ]
  },
  {
   "cell_type": "code",
   "execution_count": 121,
   "metadata": {},
   "outputs": [
    {
     "name": "stdout",
     "output_type": "stream",
     "text": [
      "database ./OneTone.db\n",
      "freq_range [0, 100] | ground_amp 2 | excited_amp 10\n"
     ]
    }
   ],
   "source": [
    "#api prototype\n",
    "#this class will be supposed to execute the tasks above and serve\n",
    "#as an api that you can import in a python instance or file and execute\n",
    "class One_tone:\n",
    "    def __init__(self, database=\"./OneTone.db\"):\n",
    "            #sets the defaults values\n",
    "            self.database=database\n",
    "            self.range=[0,100]\n",
    "            self.amp_ground=2\n",
    "            self.amp_excited=10\n",
    "            \n",
    "            print(\"database\", self.database)\n",
    "            self.print_setup()\n",
    "            \n",
    "    #methods to change the experiment setup values\n",
    "#the max and min frequency sweeped by the experiment\n",
    "    def freq_range(self, interval):\n",
    "            self.range=interval\n",
    "            self.print_setup()\n",
    "#lower amplitude to sweep the cavity with the qubit in the ground state\n",
    "    def ground_amp(self, interval):\n",
    "            self.amp_ground=interval\n",
    "            self.print_setup()\n",
    "\n",
    "#higher amplitude to sweep qubit punched out in excited state    \n",
    "    def excited_amp(self, interval):\n",
    "            self.amp_excited=interval\n",
    "            self.print_setup()\n",
    "    \n",
    "    \n",
    "    #starts experiment\n",
    "    def run(self):\n",
    "            print(\"experiment was run \\n graphs plotted\")\n",
    "    #prints the experiment setup values        \n",
    "    def print_setup(self):\n",
    "        print(\"freq_range\",self.range, \"| ground_amp\", self.amp_ground,\n",
    "                  \"| excited_amp\", self.amp_excited)\n",
    "  \n",
    "#declares the object of the class which will do the experiment\n",
    "runN42=One_tone()\n"
   ]
  },
  {
   "cell_type": "code",
   "execution_count": 122,
   "metadata": {},
   "outputs": [
    {
     "name": "stdout",
     "output_type": "stream",
     "text": [
      "freq_range [0, 300] | ground_amp 2 | excited_amp 10\n"
     ]
    }
   ],
   "source": [
    "#assign range\n",
    "runN42.freq_range([0,300])"
   ]
  },
  {
   "cell_type": "code",
   "execution_count": 123,
   "metadata": {},
   "outputs": [
    {
     "name": "stdout",
     "output_type": "stream",
     "text": [
      "freq_range [0, 300] | ground_amp 1 | excited_amp 10\n"
     ]
    }
   ],
   "source": [
    "runN42.ground_amp(1)"
   ]
  },
  {
   "cell_type": "code",
   "execution_count": 124,
   "metadata": {},
   "outputs": [
    {
     "name": "stdout",
     "output_type": "stream",
     "text": [
      "experiment was ran \n",
      " graphs plotted\n"
     ]
    }
   ],
   "source": [
    "runN42.run()"
   ]
  },
  {
   "cell_type": "code",
   "execution_count": null,
   "metadata": {},
   "outputs": [],
   "source": []
  }
 ],
 "metadata": {
  "kernelspec": {
   "display_name": "Python 3",
   "language": "python",
   "name": "python3"
  },
  "language_info": {
   "codemirror_mode": {
    "name": "ipython",
    "version": 3
   },
   "file_extension": ".py",
   "mimetype": "text/x-python",
   "name": "python",
   "nbconvert_exporter": "python",
   "pygments_lexer": "ipython3",
   "version": "3.6.12"
  }
 },
 "nbformat": 4,
 "nbformat_minor": 2
}
