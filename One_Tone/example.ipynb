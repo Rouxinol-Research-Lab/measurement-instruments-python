{
 "cells": [
  {
   "cell_type": "markdown",
   "metadata": {},
   "source": [
    "# One Tone Experiment API example\n",
    "\n",
    "This is an example of the use of the api for the one tone experiment to do a simple double measurement with low and high power so the we can see the punch out effect in the qubit.\n",
    "You can also execute the script example.py. Below we import the file with the api class.\n"
   ]
  },
  {
   "cell_type": "code",
   "execution_count": 5,
   "metadata": {},
   "outputs": [
    {
     "name": "stdout",
     "output_type": "stream",
     "text": [
      "Logging hadn't been started.\n",
      "Activating auto-logging. Current session state plus future input saved.\n",
      "Filename       : /home/daniel/.qcodes/logs/command_history.log\n",
      "Mode           : append\n",
      "Output logging : True\n",
      "Raw input log  : False\n",
      "Timestamping   : True\n",
      "State          : active\n",
      "Qcodes Logfile : /home/daniel/.qcodes/logs/201120-356324-qcodes.log\n"
     ]
    }
   ],
   "source": [
    "#this makes the graphs pop out of the notebook in windows which is necessary for the api\n",
    "%matplotlib qt \n",
    "\n",
    "import One_Tone as ot"
   ]
  },
  {
   "cell_type": "markdown",
   "metadata": {},
   "source": [
    " This will instantiate the class and print out the default setup"
   ]
  },
  {
   "cell_type": "code",
   "execution_count": 8,
   "metadata": {},
   "outputs": [
    {
     "name": "stdout",
     "output_type": "stream",
     "text": [
      "2020-11-20_13-30-23\n",
      "<DummyInstrument: dac>\n",
      "database ./OneTone.db\n",
      "freq_range [0, 60] Hz | freq_samples 120 |freq_time 0.001 |ampl 5 V\n",
      "amp_range [6, 12] V | amp_samples 12\n"
     ]
    }
   ],
   "source": [
    "exp = ot.One_tone()"
   ]
  },
  {
   "cell_type": "markdown",
   "metadata": {},
   "source": [
    "Using the names on the print out of the default setup one can change it, paying attention to the formats\n",
    "The method print_setup() will show these values too"
   ]
  },
  {
   "cell_type": "code",
   "execution_count": 10,
   "metadata": {},
   "outputs": [
    {
     "name": "stdout",
     "output_type": "stream",
     "text": [
      "freq_range [10, 50] Hz | freq_samples 120 |freq_time 0.001 |ampl 5 V\n",
      "amp_range [6, 12] V | amp_samples 12\n"
     ]
    }
   ],
   "source": [
    "exp.freq_range=[10,50]"
   ]
  },
  {
   "cell_type": "code",
   "execution_count": 12,
   "metadata": {},
   "outputs": [
    {
     "name": "stdout",
     "output_type": "stream",
     "text": [
      "freq_range [10, 50] Hz | freq_samples 120 |freq_time 0.001 |ampl 8 V\n",
      "amp_range [6, 12] V | amp_samples 12\n"
     ]
    }
   ],
   "source": [
    "exp.ampl=8"
   ]
  },
  {
   "cell_type": "code",
   "execution_count": 6,
   "metadata": {},
   "outputs": [
    {
     "name": "stdout",
     "output_type": "stream",
     "text": [
      "freq_range [10, 50] Hz | ampl 8 V \n",
      "freq_time 0.02 s\n",
      "\n"
     ]
    }
   ],
   "source": [
    "exp.freq_time=0.02"
   ]
  },
  {
   "cell_type": "code",
   "execution_count": 7,
   "metadata": {},
   "outputs": [
    {
     "name": "stdout",
     "output_type": "stream",
     "text": [
      "freq_range [10, 50] Hz | ampl 8 V \n",
      "freq_time 0.02 s\n",
      "\n"
     ]
    }
   ],
   "source": [
    "exp.print_setup()"
   ]
  },
  {
   "cell_type": "markdown",
   "metadata": {},
   "source": [
    "This loads the experiment graph screen. Loading another will create another window but the graphs only plot on the last window created."
   ]
  },
  {
   "cell_type": "code",
   "execution_count": 11,
   "metadata": {},
   "outputs": [
    {
     "name": "stdout",
     "output_type": "stream",
     "text": [
      "Window set up, run experiments to draw graphs\n"
     ]
    }
   ],
   "source": [
    "exp.graph_window()"
   ]
  },
  {
   "cell_type": "markdown",
   "metadata": {},
   "source": [
    "This runs the experiment and if a graph window is existent graphs into it in real time "
   ]
  },
  {
   "cell_type": "code",
   "execution_count": 12,
   "metadata": {},
   "outputs": [
    {
     "name": "stdout",
     "output_type": "stream",
     "text": [
      "Starting experimental run with id: 129. \n",
      "experiment was run\n"
     ]
    }
   ],
   "source": [
    "exp.run()"
   ]
  },
  {
   "cell_type": "markdown",
   "metadata": {},
   "source": [
    "Now we increase the amp and thus the power to obtain the punched out graph with the qubit on the excited state"
   ]
  },
  {
   "cell_type": "code",
   "execution_count": 13,
   "metadata": {},
   "outputs": [
    {
     "name": "stdout",
     "output_type": "stream",
     "text": [
      "freq_range [10, 50] Hz | ampl 11 V \n",
      "freq_time 0.02 s\n",
      "\n"
     ]
    }
   ],
   "source": [
    "exp.ampl=11"
   ]
  },
  {
   "cell_type": "markdown",
   "metadata": {},
   "source": [
    "And we run it again. This will plot the experiment in the same window.To plot it in other window run again the method graph_window() before running\n"
   ]
  },
  {
   "cell_type": "code",
   "execution_count": 14,
   "metadata": {},
   "outputs": [
    {
     "name": "stdout",
     "output_type": "stream",
     "text": [
      "Starting experimental run with id: 130. \n",
      "experiment was run\n"
     ]
    }
   ],
   "source": [
    "exp.run()"
   ]
  }
 ],
 "metadata": {
  "kernelspec": {
   "display_name": "Python 3",
   "language": "python",
   "name": "python3"
  },
  "language_info": {
   "codemirror_mode": {
    "name": "ipython",
    "version": 3
   },
   "file_extension": ".py",
   "mimetype": "text/x-python",
   "name": "python",
   "nbconvert_exporter": "python",
   "pygments_lexer": "ipython3",
   "version": "3.8.5"
  }
 },
 "nbformat": 4,
 "nbformat_minor": 2
}
